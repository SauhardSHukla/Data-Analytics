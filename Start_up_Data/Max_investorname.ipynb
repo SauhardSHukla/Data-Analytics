{
 "cells": [
  {
   "cell_type": "markdown",
   "metadata": {},
   "source": [
    "##### Problem statement\n",
    "Given File 'startup_funding.csv'\n",
    "\n",
    "Find the Investors who have invested maximum number of times.\n",
    "\n",
    "Print the investor name and number of times invested as integer value.\n",
    "\n",
    "##### Note:\n",
    "In startup, multiple investors might have invested. So consider each investor for that startup.\n",
    "\n",
    "Ignore the undisclosed investors.\n",
    "\n",
    "Output Format :\n",
    "investorname number"
   ]
  },
  {
   "cell_type": "code",
   "execution_count": 47,
   "metadata": {},
   "outputs": [],
   "source": [
    "import pandas as pd\n",
    "import matplotlib.pyplot as plt\n",
    "import numpy as np"
   ]
  },
  {
   "cell_type": "code",
   "execution_count": 48,
   "metadata": {},
   "outputs": [
    {
     "ename": "TypeError",
     "evalue": "argument of type 'float' is not iterable",
     "output_type": "error",
     "traceback": [
      "\u001b[1;31m---------------------------------------------------------------------------\u001b[0m",
      "\u001b[1;31mTypeError\u001b[0m                                 Traceback (most recent call last)",
      "Cell \u001b[1;32mIn[48], line 27\u001b[0m\n\u001b[0;32m     24\u001b[0m                     dictionary[j\u001b[38;5;241m.\u001b[39mstrip()] \u001b[38;5;241m=\u001b[39m \u001b[38;5;241m1\u001b[39m\n\u001b[0;32m     25\u001b[0m     \u001b[38;5;28;01mreturn\u001b[39;00m dictionary\n\u001b[1;32m---> 27\u001b[0m dictionary \u001b[38;5;241m=\u001b[39m \u001b[43mcreateDict\u001b[49m\u001b[43m(\u001b[49m\u001b[43mdf\u001b[49m\u001b[43m[\u001b[49m\u001b[38;5;124;43m'\u001b[39;49m\u001b[38;5;124;43mInvestorsName\u001b[39;49m\u001b[38;5;124;43m'\u001b[39;49m\u001b[43m]\u001b[49m\u001b[43m)\u001b[49m\n\u001b[0;32m     28\u001b[0m dataf \u001b[38;5;241m=\u001b[39m pd\u001b[38;5;241m.\u001b[39mDataFrame(\u001b[38;5;28mlist\u001b[39m(dictionary\u001b[38;5;241m.\u001b[39mvalues()),\u001b[38;5;28mlist\u001b[39m(dictionary\u001b[38;5;241m.\u001b[39mkeys()))\n\u001b[0;32m     29\u001b[0m dataf \u001b[38;5;241m=\u001b[39m dataf\u001b[38;5;241m.\u001b[39msort_values(by \u001b[38;5;241m=\u001b[39m [\u001b[38;5;241m0\u001b[39m], ascending \u001b[38;5;241m=\u001b[39m \u001b[38;5;28;01mFalse\u001b[39;00m)\n",
      "Cell \u001b[1;32mIn[48], line 12\u001b[0m, in \u001b[0;36mcreateDict\u001b[1;34m(array)\u001b[0m\n\u001b[0;32m     10\u001b[0m dictionary \u001b[38;5;241m=\u001b[39m {}\n\u001b[0;32m     11\u001b[0m \u001b[38;5;28;01mfor\u001b[39;00m i \u001b[38;5;129;01min\u001b[39;00m array:\n\u001b[1;32m---> 12\u001b[0m     \u001b[38;5;28;01mif\u001b[39;00m \u001b[38;5;124;43m'\u001b[39;49m\u001b[38;5;124;43m,\u001b[39;49m\u001b[38;5;124;43m'\u001b[39;49m\u001b[43m \u001b[49m\u001b[38;5;129;43;01mnot\u001b[39;49;00m\u001b[43m \u001b[49m\u001b[38;5;129;43;01min\u001b[39;49;00m\u001b[43m \u001b[49m\u001b[43mi\u001b[49m:\n\u001b[0;32m     13\u001b[0m         \u001b[38;5;28;01mif\u001b[39;00m i \u001b[38;5;129;01min\u001b[39;00m dictionary:\n\u001b[0;32m     14\u001b[0m             dictionary[i] \u001b[38;5;241m=\u001b[39m dictionary\u001b[38;5;241m.\u001b[39mget(i)\u001b[38;5;241m+\u001b[39m\u001b[38;5;241m1\u001b[39m\n",
      "\u001b[1;31mTypeError\u001b[0m: argument of type 'float' is not iterable"
     ]
    }
   ],
   "source": [
    "# Open and read data file as specified in the question\n",
    "# Print the required output in given format\n",
    "import pandas as pd\n",
    "import numpy as np\n",
    "\n",
    "df = pd.read_csv('startup_funding.csv',encoding = 'utf-8')\n",
    "df['InvestorsName'].dropna(inplace = True)\n",
    "\n",
    "def createDict(array):\n",
    "    dictionary = {}\n",
    "    for i in array:\n",
    "        if ',' not in i:\n",
    "            if i in dictionary:\n",
    "                dictionary[i] = dictionary.get(i)+1\n",
    "                \n",
    "            else:\n",
    "                dictionary[i] = 1\n",
    "        else:\n",
    "            string = i.strip().split(',')\n",
    "            for j in string:\n",
    "                if j.strip() in dictionary:\n",
    "                    dictionary[j.strip()] = dictionary.get(j.strip()) +1\n",
    "                else:\n",
    "                    dictionary[j.strip()] = 1\n",
    "    return dictionary\n",
    "\n",
    "dictionary = createDict(df['InvestorsName'])\n",
    "dataf = pd.DataFrame(list(dictionary.values()),list(dictionary.keys()))\n",
    "dataf = dataf.sort_values(by = [0], ascending = False)\n",
    "print(dataf.index[0],dataf.values[0][0])\n"
   ]
  },
  {
   "cell_type": "code",
   "execution_count": 50,
   "metadata": {},
   "outputs": [
    {
     "name": "stdout",
     "output_type": "stream",
     "text": [
      "Sequoia Capital 64\n"
     ]
    }
   ],
   "source": [
    "import pandas as pd\n",
    "\n",
    "# Load data\n",
    "df = pd.read_csv('startup_funding.csv', encoding='utf-8')\n",
    "\n",
    "# Drop rows where 'InvestorsName' is NaN\n",
    "df.dropna(subset=['InvestorsName'], inplace=True)\n",
    "\n",
    "# Function to create a dictionary of investor frequencies\n",
    "def createDict(array):\n",
    "    dictionary = {}\n",
    "    for i in array:\n",
    "        if ',' not in i:\n",
    "            name = i.strip().title()  # Standardize case and remove extra spaces\n",
    "            dictionary[name] = dictionary.get(name, 0) + 1\n",
    "        else:\n",
    "            investors = [j.strip().title() for j in i.split(',')]\n",
    "            for investor in investors:\n",
    "                dictionary[investor] = dictionary.get(investor, 0) + 1\n",
    "    return dictionary\n",
    "\n",
    "# Create dictionary of investors and their frequencies\n",
    "dictionary = createDict(df['InvestorsName'])\n",
    "\n",
    "# Convert dictionary to DataFrame\n",
    "dataf = pd.DataFrame(list(dictionary.items()), columns=['InvestorName', 'Count'])\n",
    "dataf = dataf.sort_values(by='Count', ascending=False)\n",
    "\n",
    "# Print the most frequent investor and their count\n",
    "top_investor = dataf.iloc[1]\n",
    "print(top_investor['InvestorName'], top_investor['Count'])\n"
   ]
  }
 ],
 "metadata": {
  "kernelspec": {
   "display_name": "Python 3",
   "language": "python",
   "name": "python3"
  },
  "language_info": {
   "codemirror_mode": {
    "name": "ipython",
    "version": 3
   },
   "file_extension": ".py",
   "mimetype": "text/x-python",
   "name": "python",
   "nbconvert_exporter": "python",
   "pygments_lexer": "ipython3",
   "version": "3.12.3"
  }
 },
 "nbformat": 4,
 "nbformat_minor": 2
}
