{
 "cells": [
  {
   "cell_type": "markdown",
   "metadata": {},
   "source": [
    "##### Problem statement\n",
    "Given File 'startup_funding.csv'\n",
    "\n",
    "Find the Investors who have invested maximum number of times.\n",
    "\n",
    "Print the investor name and number of times invested as integer value.\n",
    "\n",
    "##### Note:\n",
    "In startup, multiple investors might have invested. So consider each investor for that startup.\n",
    "\n",
    "Ignore the undisclosed investors.\n",
    "\n",
    "Output Format :\n",
    "investorname number"
   ]
  },
  {
   "cell_type": "code",
   "execution_count": 47,
   "metadata": {},
   "outputs": [],
   "source": [
    "import pandas as pd\n",
    "import matplotlib.pyplot as plt\n",
    "import numpy as np"
   ]
  },
  {
   "cell_type": "code",
   "execution_count": 50,
   "metadata": {},
   "outputs": [
    {
     "name": "stdout",
     "output_type": "stream",
     "text": [
      "Sequoia Capital 64\n"
     ]
    }
   ],
   "source": [
    "import pandas as pd\n",
    "\n",
    "# Load data\n",
    "df = pd.read_csv('startup_funding.csv', encoding='utf-8')\n",
    "\n",
    "# Drop rows where 'InvestorsName' is NaN\n",
    "df.dropna(subset=['InvestorsName'], inplace=True)\n",
    "\n",
    "# Function to create a dictionary of investor frequencies\n",
    "def createDict(array):\n",
    "    dictionary = {}\n",
    "    for i in array:\n",
    "        if ',' not in i:\n",
    "            name = i.strip().title()  # Standardize case and remove extra spaces\n",
    "            dictionary[name] = dictionary.get(name, 0) + 1\n",
    "        else:\n",
    "            investors = [j.strip().title() for j in i.split(',')]\n",
    "            for investor in investors:\n",
    "                dictionary[investor] = dictionary.get(investor, 0) + 1\n",
    "    return dictionary\n",
    "\n",
    "# Create dictionary of investors and their frequencies\n",
    "dictionary = createDict(df['InvestorsName'])\n",
    "\n",
    "# Convert dictionary to DataFrame\n",
    "dataf = pd.DataFrame(list(dictionary.items()), columns=['InvestorName', 'Count'])\n",
    "dataf = dataf.sort_values(by='Count', ascending=False)\n",
    "\n",
    "# Print the most frequent investor and their count\n",
    "top_investor = dataf.iloc[1]\n",
    "print(top_investor['InvestorName'], top_investor['Count'])\n"
   ]
  }
 ],
 "metadata": {
  "kernelspec": {
   "display_name": "Python 3",
   "language": "python",
   "name": "python3"
  },
  "language_info": {
   "codemirror_mode": {
    "name": "ipython",
    "version": 3
   },
   "file_extension": ".py",
   "mimetype": "text/x-python",
   "name": "python",
   "nbconvert_exporter": "python",
   "pygments_lexer": "ipython3",
   "version": "3.12.3"
  }
 },
 "nbformat": 4,
 "nbformat_minor": 2
}
