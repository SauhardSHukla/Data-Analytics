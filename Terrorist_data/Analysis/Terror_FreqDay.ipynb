{
 "cells": [
  {
   "cell_type": "markdown",
   "metadata": {},
   "source": [
    "#### Problem statement\n",
    "Given file \"terrorismData.csv\"\n",
    "\n",
    "It is an open-source database including information on terrorist attacks around the world from 1970 through 2017. This dataset includes systematic data on domestic as well as international terrorist incidents that have occurred during this time period\n",
    "\n",
    "##### Problem Statement :\n",
    "Find the most frequent day of attack in a terrorismDataset ?\n",
    "\n",
    "##### Note: Here np.unique can be used.\n",
    "\n",
    "Print count of frequent day and number of attack as Integer value.\n",
    "\n",
    "###### Output Format :\n",
    "Day NumberOFAttack"
   ]
  },
  {
   "cell_type": "code",
   "execution_count": null,
   "metadata": {},
   "outputs": [],
   "source": [
    "import csv \n",
    "import numpy as np"
   ]
  },
  {
   "cell_type": "code",
   "execution_count": 15,
   "metadata": {},
   "outputs": [
    {
     "name": "stdout",
     "output_type": "stream",
     "text": [
      "15 6500\n"
     ]
    }
   ],
   "source": [
    "path='terrorismData.csv'\n",
    "dicy_obj={}\n",
    "with open(path,mode='r',errors='ignore') as file_obj:\n",
    "  file_obj=csv.DictReader(file_obj,skipinitialspace=True)\n",
    "  for i in file_obj:\n",
    "    Day = (int(float(i['Day']))) if i['Day'] else 0\n",
    "    if Day in dicy_obj:\n",
    "      dicy_obj[Day]+=1\n",
    "    else:\n",
    "      dicy_obj[Day]=1\n",
    "\n",
    "np_array = np.array([(days,values)for days,values in dicy_obj.items()])\n",
    "\n",
    "sorted_data = np_array[np.argsort(-np_array[:,1])]\n",
    "for i in sorted_data[:1]:\n",
    "  day,values = i\n",
    "  print(f'{day} {values}')\n",
    "\n"
   ]
  }
 ],
 "metadata": {
  "kernelspec": {
   "display_name": "Python 3",
   "language": "python",
   "name": "python3"
  },
  "language_info": {
   "codemirror_mode": {
    "name": "ipython",
    "version": 3
   },
   "file_extension": ".py",
   "mimetype": "text/x-python",
   "name": "python",
   "nbconvert_exporter": "python",
   "pygments_lexer": "ipython3",
   "version": "3.12.3"
  }
 },
 "nbformat": 4,
 "nbformat_minor": 2
}
