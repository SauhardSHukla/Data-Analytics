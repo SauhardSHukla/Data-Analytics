{
 "cells": [
  {
   "cell_type": "markdown",
   "metadata": {},
   "source": [
    "##### Problem statement\n",
    "Given file \"terrorismData.csv\"\n",
    "\n",
    "It is an open-source database including information on terrorist attacks around the world from 1970 through 2017. This dataset includes systematic data on domestic as well as international terrorist incidents that have occurred during this time period\n",
    "\n",
    "###### Problem Statement :\n",
    "Find the casualty in the Red Corridor States ? Mainly Red corridor states include Jharkhand, Odisha, Andhra Pradesh, and Chhattisgarh.\n",
    "\n",
    "Note: Casualty=Killed +Wounded\n",
    "\n",
    "Print count of Casualty as integer value.\n",
    "\n",
    "###### Output Format :\n",
    "Count"
   ]
  },
  {
   "cell_type": "code",
   "execution_count": 1,
   "metadata": {},
   "outputs": [
    {
     "name": "stdout",
     "output_type": "stream",
     "text": [
      "5628\n"
     ]
    }
   ],
   "source": [
    "import csv\n",
    "import numpy as np\n",
    "\n",
    "# Path to the CSV file\n",
    "path = 'C:/Users/5530/Downloads/terrorismData.csv'\n",
    "# List to store the 'Killed' and 'Wounded' data\n",
    "casualty = []\n",
    "\n",
    "# Step 1: Open the CSV file and filter the data for specific states\n",
    "with open(path, 'r', encoding='ISO-8859-1') as data:\n",
    "    reader = csv.DictReader(data)  # Reading the CSV file as a dictionary\n",
    "    for row in reader:\n",
    "        # Check if the 'State' is one of the four states we are interested in\n",
    "        if row['State'] == 'Jharkhand' or row['State'] == 'Odisha' or row['State'] == 'Andhra Pradesh' or row['State'] == 'Chhattisgarh':\n",
    "            # Append the 'Killed' and 'Wounded' values for these states to the casualty list\n",
    "            casualty.append([row['Killed'], row['Wounded']])\n",
    "\n",
    "# Step 2: Convert the casualty list to a NumPy array for further processing\n",
    "npcasualty = np.array(casualty)\n",
    "\n",
    "# Step 3: Replace empty values (missing data) with zeroes\n",
    "# This step ensures that any blank values in 'Killed' or 'Wounded' columns are treated as 0\n",
    "npcasualty[npcasualty == ''] = 0\n",
    "\n",
    "# Step 4: Convert the string values in the array to float type for numerical operations\n",
    "npcasualty = np.array(npcasualty, dtype=float)\n",
    "\n",
    "# Step 5: Calculate total casualty by summing 'Killed' and 'Wounded' for each row\n",
    "# We sum along axis=1 (i.e., for each row) to get total casualty for each event\n",
    "npcasualty = np.sum(npcasualty, axis=1)\n",
    "\n",
    "# Step 6: Calculate the total casualties across all events\n",
    "maxCasualty = np.sum(npcasualty)\n",
    "\n",
    "# Step 7: Print the total casualty as an integer\n",
    "print(int(maxCasualty))\n"
   ]
  }
 ],
 "metadata": {
  "kernelspec": {
   "display_name": "Python 3",
   "language": "python",
   "name": "python3"
  },
  "language_info": {
   "codemirror_mode": {
    "name": "ipython",
    "version": 3
   },
   "file_extension": ".py",
   "mimetype": "text/x-python",
   "name": "python",
   "nbconvert_exporter": "python",
   "pygments_lexer": "ipython3",
   "version": "3.12.3"
  }
 },
 "nbformat": 4,
 "nbformat_minor": 2
}
