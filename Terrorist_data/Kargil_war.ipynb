{
 "cells": [
  {
   "cell_type": "markdown",
   "metadata": {},
   "source": [
    "##### Problem statement\n",
    "Given file \"terrorismData.csv\"\n",
    "\n",
    "It is an open-source database including information on terrorist attacks around the world from 1970 through 2017. This dataset includes systematic data on domestic as well as international terrorist incidents that have occurred during this time period\n",
    "\n",
    "##### Problem Statement :\n",
    "As we knew the Kargil ( in Jammu and Kashmir) War that took place between May 1999 and July 1999 (3 Months) ,so there was a huge conflict in Kashmir Valley during this period.\n",
    "\n",
    "In this dataset, there is no information regarding the war between the two countries to find out the casualty during the war.\n",
    "\n",
    "So find out the attack in this period in which maximum casualties happened.\n",
    "\n",
    "Print the count of casualties (as integer), city in which that attack happened and name of attack group.\n",
    "\n",
    "##### Note : Casualty = Killed + Wounded.Fill the empty value in killed or wounded feature to 0.\n",
    "\n",
    "##### Output Format :\n",
    "Casualty City TerroristGroup"
   ]
  },
  {
   "cell_type": "code",
   "execution_count": 2,
   "metadata": {},
   "outputs": [],
   "source": [
    "import numpy as np\n",
    "import csv"
   ]
  },
  {
   "cell_type": "code",
   "execution_count": 29,
   "metadata": {},
   "outputs": [
    {
     "name": "stdout",
     "output_type": "stream",
     "text": [
      "9574 New York City Al-Qaida\n"
     ]
    }
   ],
   "source": [
    "file_path = 'terrorismData.csv'\n",
    "with open(file_path,mode='r',errors='ignore') as File_obj:\n",
    "  data_obj = csv.DictReader(File_obj,skipinitialspace=True)\n",
    "  city =[]\n",
    "  casuality =[]\n",
    "  for i in data_obj:\n",
    "    city.append([i['City'],i['Group']])\n",
    "    casuality.append([i['Wounded'],i['Killed']])\n",
    "\n",
    "np_city = np.array(city)\n",
    "np_wounded = np.array(casuality)\n",
    "\n",
    "np_wounded[np_wounded=='']=0\n",
    "np_wounded= np.array(np_wounded,dtype=float)\n",
    "\n",
    "# for i in np_wounded:\n",
    "#   print(i)\n",
    "\n",
    "np_cas = np.sum(np_wounded,axis=1)\n",
    "index = np.argmax(np_cas)\n",
    "# print(index)\n",
    "print(int(np_cas[index]),np_city[index][0],np_city[index][1])"
   ]
  },
  {
   "cell_type": "markdown",
   "metadata": {},
   "source": [
    "Kargil War Inquery"
   ]
  },
  {
   "cell_type": "code",
   "execution_count": 30,
   "metadata": {},
   "outputs": [
    {
     "name": "stdout",
     "output_type": "stream",
     "text": [
      "22 Kargil District Separatists\n"
     ]
    }
   ],
   "source": [
    "import csv  # Importing the csv module to handle CSV file operations\n",
    "import numpy as np  # Importing NumPy for numerical operations\n",
    "\n",
    "# Define the path to the dataset\n",
    "path = 'terrorismData.csv'\n",
    "\n",
    "# Initialize lists to store relevant data\n",
    "casualty = []  # To store casualty data (Killed and Wounded)\n",
    "month = []  # (Not used in this code but can be used if needed)\n",
    "city = []  # To store city and group information\n",
    "\n",
    "# Open the CSV file and filter data for a specific condition\n",
    "with open(path, 'r', encoding='ISO-8859-1') as data:\n",
    "    reader = csv.DictReader(data)  # Read the CSV file into a dictionary format\n",
    "    for row in reader:  # Iterate through each row in the CSV\n",
    "        # Filter rows for the specific state and year, and for specific months (May, June, July)\n",
    "        if row['State'] == 'Jammu and Kashmir' and row['Year'] == '1999':\n",
    "            if row['Month'] == '5' or row['Month'] == '6' or row['Month'] == '7':\n",
    "                # Append the city and group to the city list\n",
    "                city.append([row['City'], row['Group']])\n",
    "                # Append the number of killed and wounded to the casualty list\n",
    "                casualty.append([row['Killed'], row['Wounded']])\n",
    "\n",
    "# Convert the casualty and city lists to NumPy arrays for easier manipulation\n",
    "npcasualty = np.array(casualty)  # Create an array for casualties\n",
    "npcity = np.array(city)  # Create an array for city and group\n",
    "\n",
    "# Convert any empty strings in the casualty data to zero\n",
    "npcasualty[npcasualty == ''] = 0  # Replace empty strings with 0\n",
    "\n",
    "# Convert the string values in the casualty array to float type for numerical operations\n",
    "npcasualty = np.array(npcasualty, dtype=float)\n",
    "\n",
    "# Sum up the killed and wounded figures for each entry to find total casualties\n",
    "npcasualty = np.sum(npcasualty, axis=1)  # Sum along rows (axis=1)\n",
    "\n",
    "# Find the index of the maximum casualty count\n",
    "index = np.argmax(npcasualty)  # Get the index of the maximum value in the casualties array\n",
    "# print(index)\n",
    "# Print the total casualties, the corresponding city, and the group responsible\n",
    "print(int(npcasualty[index]), npcity[index][0], npcity[index][1])  # Print as integer, city name, and group name\n"
   ]
  }
 ],
 "metadata": {
  "kernelspec": {
   "display_name": "Python 3",
   "language": "python",
   "name": "python3"
  },
  "language_info": {
   "codemirror_mode": {
    "name": "ipython",
    "version": 3
   },
   "file_extension": ".py",
   "mimetype": "text/x-python",
   "name": "python",
   "nbconvert_exporter": "python",
   "pygments_lexer": "ipython3",
   "version": "3.12.3"
  }
 },
 "nbformat": 4,
 "nbformat_minor": 2
}
