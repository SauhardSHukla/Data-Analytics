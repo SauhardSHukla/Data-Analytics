{
 "cells": [
  {
   "cell_type": "code",
   "execution_count": null,
   "metadata": {},
   "outputs": [
    {
     "name": "stdout",
     "output_type": "stream",
     "text": [
      "City: Baghdad Total: 77876\n",
      "City: New York City Total: 19619\n",
      "City: Mosul Total: 12927\n",
      "City: Karachi Total: 9376\n",
      "City: Mogadishu Total: 8868\n"
     ]
    }
   ],
   "source": [
    "import csv\n",
    "import numpy as np\n",
    "path = 'terrorismData.csv'\n",
    "# List to store data\n",
    "city_data = []\n",
    "with open(path, mode='r', errors='ignore') as File_data:\n",
    "    File_obj = csv.DictReader(File_data, skipinitialspace=True)\n",
    "    city_totals = {}\n",
    "    for row in File_obj:\n",
    "        city = row['City']\n",
    "        if city != 'Unknown':  # Skip 'Unknown' cities\n",
    "            \n",
    "            # Convert 'Killed' and 'Wounded' to integers (handle empty or invalid values)\n",
    "            killed = int(float(row['Killed'])) if row['Killed'] else 0\n",
    "            wounded = int(float(row['Wounded'])) if row['Wounded'] else 0\n",
    "\n",
    "            #Using First way:-\n",
    "            if city not in city_totals:\n",
    "                city_totals[city] ={'Killed': killed, 'Wounded': wounded}\n",
    "                # Second way:- Can be done like this to\n",
    "                # city_totals[city] =[ killed,wounded]\n",
    "\n",
    "            else:\n",
    "                city_totals[city]['Killed'] += killed\n",
    "                city_totals[city]['Wounded'] += wounded\n",
    "                #city_totals[city][0] += killed \n",
    "                #city_totals[city][1] += wounded \n",
    "\n",
    "# for city,value in city_totals.items():\n",
    "#     print(f'{city},{value.get('Killed')},{value.get('Wounded')}')\n",
    "\n",
    "# Convert dictionary to NumPy array\n",
    "city_data = np.array([[city,stats['Killed'] + stats['Wounded']] for city, stats in city_totals.items()])\n",
    "\n",
    "# Second way to do it :-\n",
    "# city_data = np.array([\n",
    "#     [city,stats[0] + stats[1]]\n",
    "#     for city, stats in city_totals.items()\n",
    "# ])\n",
    "\n",
    "# Sort the array by the total casualties column (descending order)\n",
    "sorted_city_data = city_data[np.argsort(-city_data[:, 1].astype(int))]\n",
    "\n",
    "# Print the sorted results\n",
    "for row in sorted_city_data[:5]:\n",
    "    #  Because it have Two columns killed=[1], wounded=[2]\n",
    "    city, total = row\n",
    "    print(f\"City: {city} Total: {total}\")"
   ]
  },
  {
   "cell_type": "markdown",
   "metadata": {},
   "source": [
    "##### Problem statement\n",
    "Given file \"terrorismData.csv\"\n",
    "\n",
    "It is an open-source database including information on terrorist attacks around the world from 1970 through 2017. This dataset includes systematic data on domestic as well as international terrorist incidents that have occurred during this time period\n",
    "\n",
    "##### Problem Statement :\n",
    "Find top 5 Indian Cities which has most number of casualties ?\n",
    "\n",
    "Print top 5 cities along with total casualties in that city. Print count of Casualty as integer value.\n",
    "\n",
    "##### Note: Ignoring the City which is Unknown.\n",
    "\n",
    "Casualty = Killed + Wounded.\n",
    "\n",
    "##### Output Format :\n",
    "city_1 casualty_1\n",
    "city_2 casualty_2\n",
    "city_3 casualty_3\n",
    "city_4 casualty_4\n",
    "city_5 casualty_5"
   ]
  },
  {
   "cell_type": "code",
   "execution_count": 39,
   "metadata": {},
   "outputs": [
    {
     "name": "stdout",
     "output_type": "stream",
     "text": [
      "1). Srinagar 3134\n",
      "2). New Delhi 2095\n",
      "3). Mumbai 2016\n",
      "4). Jammu 1119\n",
      "5). Guwahati 822\n"
     ]
    }
   ],
   "source": [
    "import csv\n",
    "\n",
    "path = 'terrorismData.csv'\n",
    "dict_city = {}\n",
    "\n",
    "with open(path, mode='r', errors='ignore') as File_data:\n",
    "    File_obj = csv.DictReader(File_data, skipinitialspace=True)\n",
    "    for row in File_obj:\n",
    "        if row['Country']=='India':\n",
    "            city = row['City']\n",
    "            if city != 'Unknown':  \n",
    "                killed = int(float(row['Killed'])) if row['Killed'] else 0\n",
    "                wounded = int(float(row['Wounded'])) if row['Wounded'] else 0\n",
    "            \n",
    "                if city not in dict_city:\n",
    "                  dict_city[city] = {'Killed': killed, 'Wounded': wounded}\n",
    "                else:\n",
    "                  dict_city[city]['Killed'] += killed\n",
    "                  dict_city[city]['Wounded'] += wounded\n",
    "city_data = [\n",
    "    (city,value.get('Killed')+value.get('Wounded'))\n",
    "    for city,value in dict_city.items()\n",
    "]\n",
    "dict_city = sorted(city_data,key=lambda y:y[1],reverse=True)\n",
    "i=1\n",
    "for city,total in dict_city[:5]:\n",
    "    print(f'{i}). {city} {total}')\n",
    "    i+=1\n",
    "   \n"
   ]
  }
 ],
 "metadata": {
  "kernelspec": {
   "display_name": "Python 3",
   "language": "python",
   "name": "python3"
  },
  "language_info": {
   "codemirror_mode": {
    "name": "ipython",
    "version": 3
   },
   "file_extension": ".py",
   "mimetype": "text/x-python",
   "name": "python",
   "nbconvert_exporter": "python",
   "pygments_lexer": "ipython3",
   "version": "3.12.3"
  }
 },
 "nbformat": 4,
 "nbformat_minor": 2
}
