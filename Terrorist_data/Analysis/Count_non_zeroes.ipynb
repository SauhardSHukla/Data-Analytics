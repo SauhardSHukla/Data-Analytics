{
 "cells": [
  {
   "cell_type": "markdown",
   "metadata": {},
   "source": [
    "#### Problem statement\n",
    "Given file \"terrorismData.csv\"\n",
    "\n",
    "It is an open-source database including information on terrorist attacks around the world from 1970 through 2017. This dataset includes systematic data on domestic as well as international terrorist incidents that have occurred during this time period\n",
    "\n",
    "#### Problem Statement :\n",
    "Find the number of attack held between day 10 and day 20?(ignoring the year and month)(including both day)\n",
    "\n",
    "Print count of NumberOFAttack as integer value.\n",
    "\n",
    "##### Output Format :\n",
    "count"
   ]
  },
  {
   "cell_type": "code",
   "execution_count": 1,
   "metadata": {},
   "outputs": [],
   "source": [
    "import numpy as np \n",
    "import csv"
   ]
  },
  {
   "cell_type": "code",
   "execution_count": 12,
   "metadata": {},
   "outputs": [
    {
     "name": "stdout",
     "output_type": "stream",
     "text": [
      "66330\n"
     ]
    }
   ],
   "source": [
    "file_path = 'C:/Users/5530/Downloads/terrorismData.csv'\n",
    "\n",
    "with open(file_path,mode= 'r',errors='ignore') as file_obj:\n",
    "  dict_data = csv.DictReader(file_obj,skipinitialspace=True)\n",
    "  # print(dict_data.fieldnames)\n",
    "  file_data = list(dict_data)\n",
    "  day=[]\n",
    "for i in file_data:\n",
    "  day.append(float(i['Day']))\n",
    "\n",
    "# Make a numpy array for the day array\n",
    "np_days = np.array(day)\n",
    "\n",
    "#Boolean value to find out the days that fullfil the requirments\n",
    "for_days=(np_days>=10)& (np_days<=20)\n",
    "data_format=np.count_nonzero(for_days)\n",
    "print(data_format)"
   ]
  }
 ],
 "metadata": {
  "kernelspec": {
   "display_name": "Python 3",
   "language": "python",
   "name": "python3"
  },
  "language_info": {
   "codemirror_mode": {
    "name": "ipython",
    "version": 3
   },
   "file_extension": ".py",
   "mimetype": "text/x-python",
   "name": "python",
   "nbconvert_exporter": "python",
   "pygments_lexer": "ipython3",
   "version": "3.12.3"
  }
 },
 "nbformat": 4,
 "nbformat_minor": 2
}
