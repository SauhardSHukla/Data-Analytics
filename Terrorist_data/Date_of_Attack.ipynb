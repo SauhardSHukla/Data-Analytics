{
 "cells": [
  {
   "cell_type": "markdown",
   "metadata": {},
   "source": [
    "##### Problem statement\n",
    "Given file \"terrorismData.csv\"\n",
    "\n",
    "It is an open-source database including information on terrorist attacks around the world from 1970 through 2017. This dataset includes systematic data on domestic as well as international terrorist incidents that have occurred during this time period\n",
    "\n",
    "##### Problem Statement :\n",
    "Find the number of attack held between 1 Jan 2010 and 31 Jan 2010?(including both date).\n",
    "Note Ignore the case where day is 0\n",
    "Print count of NumberOFAttack as integer value.\n",
    "\n",
    "Output Format :\n",
    "count"
   ]
  },
  {
   "cell_type": "code",
   "execution_count": 1,
   "metadata": {},
   "outputs": [],
   "source": [
    "import numpy as np\n",
    "import csv"
   ]
  },
  {
   "cell_type": "code",
   "execution_count": 14,
   "metadata": {},
   "outputs": [
    {
     "name": "stdout",
     "output_type": "stream",
     "text": [
      "4789\n"
     ]
    }
   ],
   "source": [
    "file_path = 'C:/Users/5530/Downloads/terrorismData.csv'\n",
    "with open(file_path,mode='r',errors='ignore') as file_obj:\n",
    "  file_data = csv.DictReader(file_obj,skipinitialspace=True)\n",
    "  file_data = list(file_data)\n",
    "\n",
    "# Create some empty list for stroing some values in it \n",
    "  day =[]\n",
    "  month =[]\n",
    "  year =[]\n",
    "  for i in file_data:\n",
    "    day.append(int(float(i['Day'])))\n",
    "    month.append(int(float(i['Month'])))\n",
    "    year.append(int(float(i['Year'])))\n",
    "\n",
    "# Make a np_array from the given array \n",
    "day=np.array(day)\n",
    "month=np.array(month)\n",
    "year=np.array(year)\n",
    "\n",
    "month = month[month==1]\n",
    "# print(month)\n",
    "yr = year[month]\n",
    "day = day[year==2010]\n",
    "# print(day)\n",
    "print(len(day[day!=0]))"
   ]
  }
 ],
 "metadata": {
  "kernelspec": {
   "display_name": "Python 3",
   "language": "python",
   "name": "python3"
  },
  "language_info": {
   "codemirror_mode": {
    "name": "ipython",
    "version": 3
   },
   "file_extension": ".py",
   "mimetype": "text/x-python",
   "name": "python",
   "nbconvert_exporter": "python",
   "pygments_lexer": "ipython3",
   "version": "3.12.3"
  }
 },
 "nbformat": 4,
 "nbformat_minor": 2
}
